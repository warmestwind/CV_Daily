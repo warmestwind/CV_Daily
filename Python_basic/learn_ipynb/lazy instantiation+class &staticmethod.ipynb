{
 "cells": [
  {
   "cell_type": "code",
   "execution_count": 64,
   "metadata": {},
   "outputs": [],
   "source": [
    "#Lazy instantiation in the Singleton pattern and usage of  classmethod and staticmethod\n",
    "info = 'hi'\n",
    "class Singleton:\n",
    "    __instance = None  #sign of instantiation\n",
    "    __a=0\n",
    "    def __init__(self):\n",
    "        if not Singleton.__instance:\n",
    "            print(\" __init__ method called..\")\n",
    "            print(self) #实例对象\n",
    "        else:\n",
    "            print(\"Instance already created:\", self.getInstance())\n",
    "    @classmethod # trans class to func as first arg , cls is Singleton at here\n",
    "    def getInstance(cls): # only want interact with class Singleton\n",
    "        if not cls.__instance:\n",
    "            cls.__instance = Singleton() #实例化放在类方法里\n",
    "        return cls.__instance\n",
    "    @staticmethod\n",
    "    def get_outside_info(): # neither want interact with class or instance, so no class argument trans to this func\n",
    "        return (info == 'hello')\n",
    "    def get_info(self): #need self arg\n",
    "        print(info)"
   ]
  },
  {
   "cell_type": "code",
   "execution_count": 63,
   "metadata": {},
   "outputs": [
    {
     "name": "stdout",
     "output_type": "stream",
     "text": [
      " __init__ method called..\n",
      "<__main__.Singleton object at 0x00000183611F9DD8>\n"
     ]
    }
   ],
   "source": [
    "s = Singleton() ## class initialized, but object not created\n",
    "#Singleton.__instance"
   ]
  },
  {
   "cell_type": "code",
   "execution_count": 58,
   "metadata": {},
   "outputs": [
    {
     "data": {
      "text/plain": [
       "<__main__.Singleton at 0x183611ea0b8>"
      ]
     },
     "execution_count": 58,
     "metadata": {},
     "output_type": "execute_result"
    }
   ],
   "source": [
    "s"
   ]
  },
  {
   "cell_type": "code",
   "execution_count": 59,
   "metadata": {},
   "outputs": [
    {
     "name": "stdout",
     "output_type": "stream",
     "text": [
      " __init__ method called..\n",
      "0\n",
      "Object created <__main__.Singleton object at 0x000001836122D3C8>\n"
     ]
    }
   ],
   "source": [
    "print(\"Object created\", Singleton.getInstance()) # Object gets created here"
   ]
  },
  {
   "cell_type": "code",
   "execution_count": 60,
   "metadata": {},
   "outputs": [
    {
     "data": {
      "text/plain": [
       "False"
      ]
     },
     "execution_count": 60,
     "metadata": {},
     "output_type": "execute_result"
    }
   ],
   "source": [
    "s.get_outside_info()"
   ]
  },
  {
   "cell_type": "code",
   "execution_count": 61,
   "metadata": {},
   "outputs": [
    {
     "name": "stdout",
     "output_type": "stream",
     "text": [
      "hi\n"
     ]
    }
   ],
   "source": [
    "s.get_info()"
   ]
  },
  {
   "cell_type": "code",
   "execution_count": 144,
   "metadata": {},
   "outputs": [],
   "source": [
    "class stu(object):\n",
    "    __sign = None\n",
    "    def __init__(self):\n",
    "        if not stu.__sign:\n",
    "            pass\n",
    "        else:\n",
    "            self.instaniation()\n",
    "    @classmethod\n",
    "    def instaniation(cls):\n",
    "        if not cls.__sign :\n",
    "            print('start')\n",
    "            cls.__sign = stu()\n",
    "        return cls.__sign"
   ]
  },
  {
   "cell_type": "code",
   "execution_count": 145,
   "metadata": {},
   "outputs": [],
   "source": [
    "t =stu()"
   ]
  },
  {
   "cell_type": "code",
   "execution_count": 146,
   "metadata": {},
   "outputs": [
    {
     "data": {
      "text/plain": [
       "<__main__.stu at 0x1836145d898>"
      ]
     },
     "execution_count": 146,
     "metadata": {},
     "output_type": "execute_result"
    }
   ],
   "source": [
    "t"
   ]
  },
  {
   "cell_type": "code",
   "execution_count": 147,
   "metadata": {},
   "outputs": [
    {
     "data": {
      "text/plain": [
       "__main__.stu"
      ]
     },
     "execution_count": 147,
     "metadata": {},
     "output_type": "execute_result"
    }
   ],
   "source": [
    "type(t)"
   ]
  },
  {
   "cell_type": "code",
   "execution_count": 148,
   "metadata": {},
   "outputs": [
    {
     "name": "stdout",
     "output_type": "stream",
     "text": [
      "start\n"
     ]
    }
   ],
   "source": [
    "t2 =stu.instaniation()"
   ]
  },
  {
   "cell_type": "code",
   "execution_count": 149,
   "metadata": {},
   "outputs": [
    {
     "data": {
      "text/plain": [
       "<__main__.stu at 0x1836145d550>"
      ]
     },
     "execution_count": 149,
     "metadata": {},
     "output_type": "execute_result"
    }
   ],
   "source": [
    "t2"
   ]
  },
  {
   "cell_type": "code",
   "execution_count": null,
   "metadata": {},
   "outputs": [],
   "source": []
  },
  {
   "cell_type": "code",
   "execution_count": null,
   "metadata": {},
   "outputs": [],
   "source": []
  }
 ],
 "metadata": {
  "kernelspec": {
   "display_name": "Python 3",
   "language": "python",
   "name": "python3"
  },
  "language_info": {
   "codemirror_mode": {
    "name": "ipython",
    "version": 3
   },
   "file_extension": ".py",
   "mimetype": "text/x-python",
   "name": "python",
   "nbconvert_exporter": "python",
   "pygments_lexer": "ipython3",
   "version": "3.5.4"
  }
 },
 "nbformat": 4,
 "nbformat_minor": 2
}
