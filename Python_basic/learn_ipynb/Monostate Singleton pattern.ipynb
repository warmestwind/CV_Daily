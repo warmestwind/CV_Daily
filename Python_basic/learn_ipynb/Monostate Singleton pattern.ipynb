{
 "cells": [
  {
   "cell_type": "code",
   "execution_count": 8,
   "metadata": {},
   "outputs": [
    {
     "name": "stdout",
     "output_type": "stream",
     "text": [
      "Borg Object 'b':  <__main__.Borg object at 0x00000177FEFD9748>\n",
      "Borg Object 'b1':  <__main__.Borg object at 0x00000177FEFD9710>\n",
      "Object State 'b': 4\n",
      "Object State 'b': 4\n"
     ]
    }
   ],
   "source": [
    "# all objects sharing the same state\n",
    "class Borg:\n",
    "    __shared_state = {'f':'y'}\n",
    "    def __init__(self):\n",
    "        self.x = 1\n",
    "        self.__dict__ = self.__shared_state #__dict__ : store commone state \n",
    "        #self.__dict2__ = self.__shared_state\n",
    "        pass\n",
    "b = Borg()\n",
    "b1 = Borg()\n",
    "b.x = 4\n",
    "print(\"Borg Object 'b': \", b) ## b and b1 are distinct objects\n",
    "print(\"Borg Object 'b1': \", b1)\n",
    "print(\"Object State 'b':\", b.x)##\n",
    "print(\"Object State 'b':\", b1.x)##"
   ]
  },
  {
   "cell_type": "code",
   "execution_count": 9,
   "metadata": {},
   "outputs": [],
   "source": [
    "class Borg(object):\n",
    "    _shared_state = {}\n",
    "    def __new__(cls, *args, **kwargs):\n",
    "        obj = super(Borg, cls).__new__(cls, *args, **kwargs)\n",
    "        obj.__dict__ = cls._shared_state\n",
    "        return obj"
   ]
  },
  {
   "cell_type": "code",
   "execution_count": 10,
   "metadata": {},
   "outputs": [
    {
     "data": {
      "text/plain": [
       "type"
      ]
     },
     "execution_count": 10,
     "metadata": {},
     "output_type": "execute_result"
    }
   ],
   "source": [
    "type(Borg)"
   ]
  },
  {
   "cell_type": "code",
   "execution_count": 30,
   "metadata": {},
   "outputs": [],
   "source": [
    "#http://python.jobbole.com/88795/\n",
    "#type->metaclass->class->func\n",
    "class MyInt(type):\n",
    "    #Python’s special __call__ method gets called when an object needs to be created for an\n",
    "    #already existing class\n",
    "    def __call__(cls, *args, **kwds):\n",
    "        print(\"***** Here's My int *****\", args)\n",
    "        print(\"Now do whatever you want with these objects…\")\n",
    "        return type.__call__(cls, *args, **kwds)\n",
    "class int(object,metaclass=MyInt):\n",
    "    def __init__(self, x, y):\n",
    "        self.x = x\n",
    "        self.y = y\n"
   ]
  },
  {
   "cell_type": "code",
   "execution_count": 31,
   "metadata": {},
   "outputs": [
    {
     "name": "stdout",
     "output_type": "stream",
     "text": [
      "***** Here's My int ***** (3, 4)\n",
      "Now do whatever you want with these objects…\n"
     ]
    }
   ],
   "source": [
    "i = int(3,4)"
   ]
  },
  {
   "cell_type": "code",
   "execution_count": 13,
   "metadata": {},
   "outputs": [
    {
     "name": "stdout",
     "output_type": "stream",
     "text": [
      "<class '__main__.int'>\n"
     ]
    }
   ],
   "source": [
    "print(type(i))"
   ]
  },
  {
   "cell_type": "code",
   "execution_count": 23,
   "metadata": {},
   "outputs": [],
   "source": [
    "def fn(self, name='worldf'): # 先定义函数\n",
    "    print('Hello, %s.' % name)\n",
    "Hello = type('Hello', (object,), dict(hello=fn)) # 创建Hello class"
   ]
  },
  {
   "cell_type": "code",
   "execution_count": 24,
   "metadata": {},
   "outputs": [],
   "source": [
    "h = Hello()"
   ]
  },
  {
   "cell_type": "code",
   "execution_count": 25,
   "metadata": {},
   "outputs": [
    {
     "name": "stdout",
     "output_type": "stream",
     "text": [
      "Hello, worldf.\n"
     ]
    }
   ],
   "source": [
    "h.hello()"
   ]
  },
  {
   "cell_type": "code",
   "execution_count": null,
   "metadata": {},
   "outputs": [],
   "source": [
    "class MetaSingleton(type):\n",
    "    _instances = {}\n",
    "    def __call__(cls, *args, **kwargs):\n",
    "        if cls not in cls._instances:\n",
    "            cls._instances[cls] = super(MetaSingleton, \\\n",
    "            cls).__call__(*args, **kwargs)\n",
    "        return cls._instances[cls]\n",
    "class Logger(metaclass=MetaSingleton):\n",
    "    pass\n",
    "logger1 = Logger()\n",
    "logger2 = Logger()\n",
    "print(logger1, logger2)"
   ]
  }
 ],
 "metadata": {
  "kernelspec": {
   "display_name": "Python 3",
   "language": "python",
   "name": "python3"
  },
  "language_info": {
   "codemirror_mode": {
    "name": "ipython",
    "version": 3
   },
   "file_extension": ".py",
   "mimetype": "text/x-python",
   "name": "python",
   "nbconvert_exporter": "python",
   "pygments_lexer": "ipython3",
   "version": "3.5.4"
  }
 },
 "nbformat": 4,
 "nbformat_minor": 2
}
