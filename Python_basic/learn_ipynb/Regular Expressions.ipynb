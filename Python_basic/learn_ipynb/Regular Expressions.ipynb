{
 "cells": [
  {
   "cell_type": "markdown",
   "metadata": {},
   "source": [
    "# match(pattern, string, flags=0) 从头开始匹配"
   ]
  },
  {
   "cell_type": "code",
   "execution_count": 1,
   "metadata": {},
   "outputs": [
    {
     "name": "stdout",
     "output_type": "stream",
     "text": [
      "matchObj.group() :  Cats are <s>smar<s>ter<s> than dogs\n",
      "matchObj.group(1) len :  4\n",
      "matchObj.group(2) :  s>smar<s>ter<s\n",
      "matchObj.group(3) :   than dogs\n"
     ]
    }
   ],
   "source": [
    "import re\n",
    "line = \"Cats are <s>smar<s>ter<s> than dogs\"\n",
    "matchObj = re.match( r'(.*) are <(.*)>(.*)', line, re.M|re.I)  # difference between .* and .*?\n",
    "#matchObj = re.match( r'(.*) are <(.*?)>(.*)', line, re.M|re.I)\n",
    "if matchObj:\n",
    "    print (\"matchObj.group() : \", matchObj.group())\n",
    "    print (\"matchObj.group(1) len : \", len(matchObj.group(1))) # not contain whitespace after Cats\n",
    "    \n",
    "    print (\"matchObj.group(2) : \", matchObj.group(2))\n",
    "    print (\"matchObj.group(3) : \", matchObj.group(3))\n",
    "else:\n",
    "    print (\"No match!!\")"
   ]
  },
  {
   "cell_type": "code",
   "execution_count": 2,
   "metadata": {},
   "outputs": [
    {
     "name": "stdout",
     "output_type": "stream",
     "text": [
      "None\n"
     ]
    }
   ],
   "source": [
    "#re.match 尝试从字符串的起始位置匹配一个模式，如果不是起始位置匹配成功的话，match()就返回none。\n",
    "print(re.match('run', 'www.runoob.com'))  "
   ]
  },
  {
   "cell_type": "markdown",
   "metadata": {},
   "source": [
    "# search(pattern, string, flags=0) 从任意位置开始匹配"
   ]
  },
  {
   "cell_type": "code",
   "execution_count": 3,
   "metadata": {},
   "outputs": [
    {
     "name": "stdout",
     "output_type": "stream",
     "text": [
      "searchObj.group() :  ats are smarter than dogs\n",
      "searchObj.group(1) :  ats\n",
      "searchObj.group(2) :  smarter\n"
     ]
    }
   ],
   "source": [
    "line = \"Cats are smarter than dogs\"\n",
    "searchObj = re.search( r'(a.*) are (.*?) .*', line, re.M|re.I)\n",
    "if searchObj:\n",
    "    print (\"searchObj.group() : \", searchObj.group())\n",
    "    print (\"searchObj.group(1) : \", searchObj.group(1))\n",
    "    print (\"searchObj.group(2) : \", searchObj.group(2))\n",
    "else:\n",
    "    print (\"Nothing found!!\")"
   ]
  },
  {
   "cell_type": "markdown",
   "metadata": {},
   "source": [
    "# sub(pattern, repl, string, max=0))  搜索和替换"
   ]
  },
  {
   "cell_type": "code",
   "execution_count": 4,
   "metadata": {},
   "outputs": [
    {
     "name": "stdout",
     "output_type": "stream",
     "text": [
      "Phone Num :  2004-959-559 # This is Phone Number23\n",
      "Phone Num :  200495955923\n"
     ]
    }
   ],
   "source": [
    "phone = \"2004-959-559 # This is Phone Number23\"\n",
    "# Delete Python-style comments\n",
    "num = re.sub(r'#.*2$', \"\", phone) # $:在目标结尾匹配，否者不成功 \n",
    "print (\"Phone Num : \", num)\n",
    "# Remove anything other than digits\n",
    "num = re.sub(r'\\D', \"\", phone)\n",
    "print (\"Phone Num : \", num)"
   ]
  },
  {
   "cell_type": "code",
   "execution_count": null,
   "metadata": {},
   "outputs": [],
   "source": []
  }
 ],
 "metadata": {
  "kernelspec": {
   "display_name": "Python 3",
   "language": "python",
   "name": "python3"
  },
  "language_info": {
   "codemirror_mode": {
    "name": "ipython",
    "version": 3
   },
   "file_extension": ".py",
   "mimetype": "text/x-python",
   "name": "python",
   "nbconvert_exporter": "python",
   "pygments_lexer": "ipython3",
   "version": "3.5.4"
  }
 },
 "nbformat": 4,
 "nbformat_minor": 2
}
